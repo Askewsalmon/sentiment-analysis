{
   "cells": [
      {
         "cell_type": "markdown",
         "metadata": {},
         "source": [
            "**#Importing libraries**"
         ]
      },
      {
         "cell_type": "code",
         "execution_count": 1,
         "metadata": {},
         "outputs": [],
         "source": [
            "import pandas as pd\n",
            "from sklearn.feature_extraction.text import TfidfVectorizer\n",
            "from sklearn.model_selection import train_test_split\n",
            "from sklearn.naive_bayes import MultinomialNB\n",
            "from sklearn.svm import LinearSVC\n",
            "from sklearn.ensemble import RandomForestClassifier\n",
            "from sklearn.metrics import classification_report, confusion_matrix, accuracy_score\n",
            "from nltk.corpus import stopwords\n",
            "from nltk.stem import PorterStemmer\n",
            "from nltk.tokenize import word_tokenize\n",
            "from sklearn.utils import shuffle\n",
            "from scipy.sparse import csr_matrix\n",
            "import tensorflow as tf\n",
            "import re\n",
            "import seaborn as sns\n",
            "from wordcloud import WordCloud\n",
            "import matplotlib.pyplot as plt\n",
            "from joblib import dump,load\n",
            "from sklearn.metrics import precision_recall_fscore_support as score\n",
            "import numpy as np\n",
            "from imblearn.under_sampling import RandomUnderSampler"
         ]
      },
      {
         "cell_type": "markdown",
         "metadata": {},
         "source": [
            "**#Read Dataset/Calculating weight**"
         ]
      },
      {
         "cell_type": "code",
         "execution_count": 2,
         "metadata": {
            "tags": []
         },
         "outputs": [],
         "source": [
            "df = pd.read_json(\"./Video_Games_5.json\", lines=True)\n",
            "num_overall_1 = df[\"overall\"].value_counts()[1]\n",
            "num_overall_2 = df[\"overall\"].value_counts()[2]\n",
            "num_overall_3 = df[\"overall\"].value_counts()[3]\n",
            "num_overall_4 = df[\"overall\"].value_counts()[4]\n",
            "num_overall_5 = df[\"overall\"].value_counts()[5]\n",
            "num_class_0 = num_overall_1 + num_overall_2\n",
            "num_class_2 = num_overall_4 + num_overall_5\n",
            "weight_0 = num_class_2 / num_class_0\n",
            "weight_1 = num_class_2 / num_overall_3\n",
            "bayes_weight=[0.4,0.4,0.2]\n",
            "svm_rf_weight={0:weight_0, 1: weight_1, 2:4}"
         ]
      },
      {
         "cell_type": "markdown",
         "metadata": {},
         "source": [
            "**#Creating classes**"
         ]
      },
      {
         "cell_type": "code",
         "execution_count": 3,
         "metadata": {},
         "outputs": [],
         "source": [
            "df[\"sentiment\"] = df[\"overall\"].apply(\n",
            "    lambda rating: 0 if rating <= 2 else (1 if rating == 3 else 2)\n",
            ")"
         ]
      },
      {
         "cell_type": "markdown",
         "metadata": {},
         "source": [
            "**#Preprocessing**"
         ]
      },
      {
         "cell_type": "code",
         "execution_count": 4,
         "metadata": {},
         "outputs": [],
         "source": [
            "\n",
            "df.fillna({\"reviewText\": \"\"}, inplace=True)\n",
            "\n",
            "df[\"reviewText\"] = df[\"reviewText\"].apply(lambda x: re.sub(r\"\\W\", \" \", str(x)))\n",
            "\n",
            "stop_words = set(stopwords.words(\"english\"))\n",
            "df[\"reviewText\"] = df[\"reviewText\"].apply(\n",
            "    lambda x: \" \".join([word for word in word_tokenize(x) if word not in stop_words])\n",
            ")\n",
            "\n",
            "stemmer = PorterStemmer()\n",
            "df[\"reviewText\"] = df[\"reviewText\"].apply(\n",
            "    lambda x: \" \".join([stemmer.stem(word) for word in word_tokenize(x)])\n",
            ")"
         ]
      },
      {
         "cell_type": "markdown",
         "metadata": {},
         "source": [
            "**#Vectorization**"
         ]
      },
      {
         "cell_type": "code",
         "execution_count": 5,
         "metadata": {},
         "outputs": [],
         "source": [
            "vectorizer = TfidfVectorizer()\n",
            "reviews_tfidf = vectorizer.fit_transform(df[\"reviewText\"])"
         ]
      },
      {
         "cell_type": "markdown",
         "metadata": {},
         "source": [
            "**#UnderSampling**"
         ]
      },
      {
         "cell_type": "code",
         "execution_count": 6,
         "metadata": {},
         "outputs": [],
         "source": [
            "rus=RandomUnderSampler(random_state=42, sampling_strategy={2: 50000})\n",
            "reviews_sampled, sentiments_sampled = rus.fit_resample(reviews_tfidf, df[\"sentiment\"])"
         ]
      },
      {
         "cell_type": "markdown",
         "metadata": {},
         "source": [
            "**#Splitting dataset**"
         ]
      },
      {
         "cell_type": "code",
         "execution_count": 7,
         "metadata": {},
         "outputs": [],
         "source": [
            "reviews_train, reviews_test, sentiments_train, sentiments_test = train_test_split(\n",
            "    reviews_sampled, sentiments_sampled, test_size=0.2, random_state=42\n",
            ")"
         ]
      },
      {
         "cell_type": "markdown",
         "metadata": {},
         "source": [
            "**#Random Forest Classifier**"
         ]
      },
      {
         "cell_type": "code",
         "execution_count": null,
         "metadata": {},
         "outputs": [],
         "source": [
            "clf = RandomForestClassifier(n_estimators=300, max_depth=100, min_samples_leaf=5, min_samples_split=10, random_state=42, class_weight=svm_rf_weight)\n",
            "\n",
            "clf.fit(reviews_train, sentiments_train)\n",
            "\n",
            "dump(clf, 'random_forest_classifier_partition.joblib')\n",
            "rf_loaded = load('random_forest_classifier_partition.joblib')\n",
            "\n",
            "sentiments_pred = rf_loaded.predict(reviews_test)\n",
            "train_accuracy = accuracy_score(sentiments_train, rf_loaded.predict(reviews_train))\n",
            "test_accuracy = accuracy_score(sentiments_test, rf_loaded.predict(reviews_test))\n",
            "print(\"Train accuracy: \", train_accuracy)\n",
            "print(\"Test accuracy: \", test_accuracy)\n",
            "print(classification_report(sentiments_test, sentiments_pred))\n",
            "\n",
            "cm = confusion_matrix(sentiments_test, sentiments_pred)\n",
            "sns.heatmap(cm, annot=True, fmt=\"d\")\n",
            "plt.title(\"Confusion Matrix\")\n",
            "plt.xlabel(\"Predicted\")\n",
            "plt.ylabel(\"True\")\n",
            "plt.show()"
         ]
      },
      {
         "cell_type": "markdown",
         "metadata": {},
         "source": [
            "**#SVM Classifier**"
         ]
      },
      {
         "cell_type": "code",
         "execution_count": null,
         "metadata": {},
         "outputs": [],
         "source": [
            "clf = LinearSVC(dual=True, max_iter=10000, class_weight=svm_rf_weight)\n",
            "\n",
            "clf.fit(reviews_train, sentiments_train)\n",
            "\n",
            "dump(clf, 'svm_partition.joblib')\n",
            "svm_loaded = load('svm.joblib')\n",
            "\n",
            "sentiments_pred = clf.predict(reviews_test)\n",
            "train_accuracy = accuracy_score(sentiments_train, clf.predict(reviews_train))\n",
            "test_accuracy = accuracy_score(sentiments_test, clf.predict(reviews_test))\n",
            "print(\"Train accuracy: \", train_accuracy)\n",
            "print(\"Test accuracy: \", test_accuracy)\n",
            "print(classification_report(sentiments_test, sentiments_pred))\n",
            "\n",
            "cm = confusion_matrix(sentiments_test, sentiments_pred)\n",
            "sns.heatmap(cm, annot=True, fmt=\"d\")\n",
            "plt.title(\"Confusion Matrix\")\n",
            "plt.xlabel(\"Predicted\")\n",
            "plt.ylabel(\"True\")\n",
            "plt.show()"
         ]
      },
      {
         "cell_type": "markdown",
         "metadata": {},
         "source": [
            "**#Multinomial Naive Bayes Classifier**"
         ]
      },
      {
         "cell_type": "code",
         "execution_count": null,
         "metadata": {},
         "outputs": [],
         "source": [
            "clf = MultinomialNB(class_prior=bayes_weight)\n",
            "clf.fit(reviews_train, sentiments_train)\n",
            "dump(clf, \"bayes_partition.joblib\")\n",
            "\n",
            "nb_loaded = load('bayes.joblib')\n",
            "sentiments_pred = clf.predict(reviews_test)\n",
            "\n",
            "print(classification_report(sentiments_test, sentiments_pred))\n",
            "\n",
            "train_accuracy = accuracy_score(sentiments_train, clf.predict(reviews_train))\n",
            "test_accuracy = accuracy_score(sentiments_test, clf.predict(reviews_test))\n",
            "print(\"Train accuracy: \", train_accuracy)\n",
            "print(\"Test accuracy: \", test_accuracy)\n",
            "\n",
            "cm = confusion_matrix(sentiments_test, sentiments_pred)\n",
            "sns.heatmap(cm, annot=True, fmt=\"d\")\n",
            "plt.title(\"Confusion Matrix\")\n",
            "plt.xlabel(\"Predicted\")\n",
            "plt.ylabel(\"True\")\n",
            "plt.show()"
         ]
      },
      {
         "cell_type": "markdown",
         "metadata": {},
         "source": [
            "**#WordCloud**"
         ]
      },
      {
         "cell_type": "code",
         "execution_count": null,
         "metadata": {},
         "outputs": [],
         "source": [
            "positive_reviews = df[df['sentiment'] == 2]['reviewText'].str.cat(sep=' ')\n",
            "wordcloud = WordCloud(background_color='white', max_words=200).generate(positive_reviews)\n",
            "plt.figure(figsize=(10, 10))\n",
            "plt.imshow(wordcloud, interpolation='bilinear')\n",
            "plt.axis('off')\n",
            "plt.title('Word Cloud for Positive Reviews')\n",
            "plt.show()\n",
            "\n",
            "negative_reviews = df[df['sentiment'] == 0]['reviewText'].str.cat(sep=' ')\n",
            "wordcloud_negative = WordCloud(background_color='white', max_words=200, contour_color='red').generate(negative_reviews)\n",
            "plt.figure(figsize=(10, 10))\n",
            "plt.imshow(wordcloud_negative, interpolation='bilinear')\n",
            "plt.axis('off')\n",
            "plt.title('Negative Sentiment Word Cloud')\n",
            "plt.show()"
         ]
      },
      {
         "cell_type": "markdown",
         "metadata": {},
         "source": [
            "**#Metrics Graph**"
         ]
      },
      {
         "cell_type": "code",
         "execution_count": null,
         "metadata": {},
         "outputs": [],
         "source": [
            "svm_loaded = load('svm_partition.joblib')\n",
            "nb_loaded = load('bayes_partition.joblib')\n",
            "precision_rf, recall_rf, fscore_rf, _ = score(sentiments_test, rf_loaded.predict(reviews_test), average='macro')\n",
            "\n",
            "precision_svm, recall_svm, fscore_svm, _ = score(sentiments_test, svm_loaded.predict(reviews_test), average='macro')\n",
            "\n",
            "precision_nb, recall_nb, fscore_nb, _ = score(sentiments_test, nb_loaded.predict(reviews_test), average='macro')\n",
            "\n",
            "models = ['Random Forest', 'SVM', 'Naive Bayes']\n",
            "precision_scores = [precision_rf, precision_svm, precision_nb]\n",
            "recall_scores = [recall_rf, recall_svm, recall_nb]\n",
            "fscore_scores = [fscore_rf, fscore_svm, fscore_nb]\n",
            "\n",
            "x = np.arange(len(models))  \n",
            "width = 0.25  \n",
            "\n",
            "fig, ax = plt.subplots()\n",
            "rects1 = ax.bar(x - width, precision_scores, width, label='Precision')\n",
            "rects2 = ax.bar(x, recall_scores, width, label='Recall')\n",
            "rects3 = ax.bar(x + width, fscore_scores, width, label='F1-Score')\n",
            "\n",
            "ax.set_ylabel('Scores')\n",
            "ax.set_title('Scores by model and metric')\n",
            "ax.set_xticks(x)\n",
            "ax.set_xticklabels(models)\n",
            "ax.legend()\n",
            "\n",
            "fig.tight_layout()\n",
            "plt.show()"
         ]
      },
      {
         "cell_type": "markdown",
         "metadata": {},
         "source": [
            "**#Rete Neurale Fully Connected**"
         ]
      },
      {
         "cell_type": "code",
         "execution_count": 9,
         "metadata": {},
         "outputs": [],
         "source": [
            "#reteneurale mia\n",
            "input_size = reviews_tfidf.shape[1]\n",
            "\n",
            "# Definizione della struttura della rete\n",
            "input_layer = tf.keras.Input(shape=(input_size,))\n",
            "hidden_layer = tf.keras.layers.Dense(72, activation='relu')(input_layer)\n",
            "output_layer = tf.keras.layers.Dense(3, activation='softmax')(hidden_layer)\n",
            "\n",
            "model = tf.keras.Model(inputs=input_layer, outputs=output_layer)\n",
            "\n",
            "# Compilazione del modello\n",
            "model.compile(optimizer='adam', loss='sparse_categorical_crossentropy', metrics=['accuracy'])"
         ]
      },
      {
         "cell_type": "code",
         "execution_count": 13,
         "metadata": {},
         "outputs": [
            {
               "name": "stdout",
               "output_type": "stream",
               "text": [
                  "Epoch 1/50\n",
                  "\u001b[1m482/482\u001b[0m \u001b[32m━━━━━━━━━━━━━━━━━━━━\u001b[0m\u001b[37m\u001b[0m \u001b[1m37s\u001b[0m 76ms/step - accuracy: 0.3464 - loss: 1.5629\n",
                  "Epoch 2/50\n",
                  "\u001b[1m482/482\u001b[0m \u001b[32m━━━━━━━━━━━━━━━━━━━━\u001b[0m\u001b[37m\u001b[0m \u001b[1m36s\u001b[0m 75ms/step - accuracy: 0.3590 - loss: 1.0968\n",
                  "Epoch 3/50\n",
                  "\u001b[1m482/482\u001b[0m \u001b[32m━━━━━━━━━━━━━━━━━━━━\u001b[0m\u001b[37m\u001b[0m \u001b[1m38s\u001b[0m 79ms/step - accuracy: 0.3609 - loss: 1.0946\n",
                  "Epoch 4/50\n",
                  "\u001b[1m482/482\u001b[0m \u001b[32m━━━━━━━━━━━━━━━━━━━━\u001b[0m\u001b[37m\u001b[0m \u001b[1m38s\u001b[0m 79ms/step - accuracy: 0.3608 - loss: 1.0932\n",
                  "Epoch 5/50\n",
                  "\u001b[1m482/482\u001b[0m \u001b[32m━━━━━━━━━━━━━━━━━━━━\u001b[0m\u001b[37m\u001b[0m \u001b[1m37s\u001b[0m 76ms/step - accuracy: 0.3604 - loss: 1.0920\n",
                  "Epoch 6/50\n",
                  "\u001b[1m482/482\u001b[0m \u001b[32m━━━━━━━━━━━━━━━━━━━━\u001b[0m\u001b[37m\u001b[0m \u001b[1m36s\u001b[0m 75ms/step - accuracy: 0.3648 - loss: 1.0899\n",
                  "Epoch 7/50\n",
                  "\u001b[1m482/482\u001b[0m \u001b[32m━━━━━━━━━━━━━━━━━━━━\u001b[0m\u001b[37m\u001b[0m \u001b[1m36s\u001b[0m 75ms/step - accuracy: 0.3632 - loss: 1.0883\n",
                  "Epoch 8/50\n",
                  "\u001b[1m482/482\u001b[0m \u001b[32m━━━━━━━━━━━━━━━━━━━━\u001b[0m\u001b[37m\u001b[0m \u001b[1m36s\u001b[0m 75ms/step - accuracy: 0.3657 - loss: 1.0860\n",
                  "Epoch 9/50\n",
                  "\u001b[1m482/482\u001b[0m \u001b[32m━━━━━━━━━━━━━━━━━━━━\u001b[0m\u001b[37m\u001b[0m \u001b[1m36s\u001b[0m 75ms/step - accuracy: 0.3669 - loss: 1.0834\n",
                  "Epoch 10/50\n",
                  "\u001b[1m482/482\u001b[0m \u001b[32m━━━━━━━━━━━━━━━━━━━━\u001b[0m\u001b[37m\u001b[0m \u001b[1m36s\u001b[0m 75ms/step - accuracy: 0.3691 - loss: 1.0805\n",
                  "Epoch 11/50\n",
                  "\u001b[1m482/482\u001b[0m \u001b[32m━━━━━━━━━━━━━━━━━━━━\u001b[0m\u001b[37m\u001b[0m \u001b[1m36s\u001b[0m 75ms/step - accuracy: 0.3721 - loss: 1.0767\n",
                  "Epoch 12/50\n",
                  "\u001b[1m482/482\u001b[0m \u001b[32m━━━━━━━━━━━━━━━━━━━━\u001b[0m\u001b[37m\u001b[0m \u001b[1m36s\u001b[0m 75ms/step - accuracy: 0.3736 - loss: 1.0728\n",
                  "Epoch 13/50\n",
                  "\u001b[1m482/482\u001b[0m \u001b[32m━━━━━━━━━━━━━━━━━━━━\u001b[0m\u001b[37m\u001b[0m \u001b[1m37s\u001b[0m 76ms/step - accuracy: 0.3757 - loss: 1.0701\n",
                  "Epoch 14/50\n",
                  "\u001b[1m482/482\u001b[0m \u001b[32m━━━━━━━━━━━━━━━━━━━━\u001b[0m\u001b[37m\u001b[0m \u001b[1m37s\u001b[0m 77ms/step - accuracy: 0.3844 - loss: 1.0634\n",
                  "Epoch 15/50\n",
                  "\u001b[1m482/482\u001b[0m \u001b[32m━━━━━━━━━━━━━━━━━━━━\u001b[0m\u001b[37m\u001b[0m \u001b[1m37s\u001b[0m 77ms/step - accuracy: 0.3836 - loss: 1.0590\n",
                  "Epoch 16/50\n",
                  "\u001b[1m482/482\u001b[0m \u001b[32m━━━━━━━━━━━━━━━━━━━━\u001b[0m\u001b[37m\u001b[0m \u001b[1m37s\u001b[0m 77ms/step - accuracy: 0.3860 - loss: 1.0530\n",
                  "Epoch 17/50\n",
                  "\u001b[1m482/482\u001b[0m \u001b[32m━━━━━━━━━━━━━━━━━━━━\u001b[0m\u001b[37m\u001b[0m \u001b[1m37s\u001b[0m 77ms/step - accuracy: 0.3934 - loss: 1.0473\n",
                  "Epoch 18/50\n",
                  "\u001b[1m482/482\u001b[0m \u001b[32m━━━━━━━━━━━━━━━━━━━━\u001b[0m\u001b[37m\u001b[0m \u001b[1m37s\u001b[0m 76ms/step - accuracy: 0.3953 - loss: 1.0416\n",
                  "Epoch 19/50\n",
                  "\u001b[1m482/482\u001b[0m \u001b[32m━━━━━━━━━━━━━━━━━━━━\u001b[0m\u001b[37m\u001b[0m \u001b[1m36s\u001b[0m 75ms/step - accuracy: 0.3994 - loss: 1.0362\n",
                  "Epoch 20/50\n",
                  "\u001b[1m482/482\u001b[0m \u001b[32m━━━━━━━━━━━━━━━━━━━━\u001b[0m\u001b[37m\u001b[0m \u001b[1m36s\u001b[0m 75ms/step - accuracy: 0.4029 - loss: 1.0321\n",
                  "Epoch 21/50\n",
                  "\u001b[1m482/482\u001b[0m \u001b[32m━━━━━━━━━━━━━━━━━━━━\u001b[0m\u001b[37m\u001b[0m \u001b[1m37s\u001b[0m 76ms/step - accuracy: 0.4038 - loss: 1.0254\n",
                  "Epoch 22/50\n",
                  "\u001b[1m482/482\u001b[0m \u001b[32m━━━━━━━━━━━━━━━━━━━━\u001b[0m\u001b[37m\u001b[0m \u001b[1m36s\u001b[0m 76ms/step - accuracy: 0.4091 - loss: 1.0217\n",
                  "Epoch 23/50\n",
                  "\u001b[1m482/482\u001b[0m \u001b[32m━━━━━━━━━━━━━━━━━━━━\u001b[0m\u001b[37m\u001b[0m \u001b[1m36s\u001b[0m 76ms/step - accuracy: 0.4128 - loss: 1.0153\n",
                  "Epoch 24/50\n",
                  "\u001b[1m482/482\u001b[0m \u001b[32m━━━━━━━━━━━━━━━━━━━━\u001b[0m\u001b[37m\u001b[0m \u001b[1m36s\u001b[0m 75ms/step - accuracy: 0.4170 - loss: 1.0092\n",
                  "Epoch 25/50\n",
                  "\u001b[1m482/482\u001b[0m \u001b[32m━━━━━━━━━━━━━━━━━━━━\u001b[0m\u001b[37m\u001b[0m \u001b[1m36s\u001b[0m 75ms/step - accuracy: 0.4182 - loss: 1.0058\n",
                  "Epoch 26/50\n",
                  "\u001b[1m482/482\u001b[0m \u001b[32m━━━━━━━━━━━━━━━━━━━━\u001b[0m\u001b[37m\u001b[0m \u001b[1m36s\u001b[0m 75ms/step - accuracy: 0.4210 - loss: 1.0010\n",
                  "Epoch 27/50\n",
                  "\u001b[1m482/482\u001b[0m \u001b[32m━━━━━━━━━━━━━━━━━━━━\u001b[0m\u001b[37m\u001b[0m \u001b[1m36s\u001b[0m 75ms/step - accuracy: 0.4277 - loss: 0.9962\n",
                  "Epoch 28/50\n",
                  "\u001b[1m482/482\u001b[0m \u001b[32m━━━━━━━━━━━━━━━━━━━━\u001b[0m\u001b[37m\u001b[0m \u001b[1m36s\u001b[0m 75ms/step - accuracy: 0.4281 - loss: 0.9907\n",
                  "Epoch 29/50\n",
                  "\u001b[1m482/482\u001b[0m \u001b[32m━━━━━━━━━━━━━━━━━━━━\u001b[0m\u001b[37m\u001b[0m \u001b[1m37s\u001b[0m 76ms/step - accuracy: 0.4316 - loss: 0.9871\n",
                  "Epoch 30/50\n",
                  "\u001b[1m482/482\u001b[0m \u001b[32m━━━━━━━━━━━━━━━━━━━━\u001b[0m\u001b[37m\u001b[0m \u001b[1m36s\u001b[0m 76ms/step - accuracy: 0.4341 - loss: 0.9817\n",
                  "Epoch 31/50\n",
                  "\u001b[1m482/482\u001b[0m \u001b[32m━━━━━━━━━━━━━━━━━━━━\u001b[0m\u001b[37m\u001b[0m \u001b[1m36s\u001b[0m 75ms/step - accuracy: 0.4352 - loss: 0.9799\n",
                  "Epoch 32/50\n",
                  "\u001b[1m482/482\u001b[0m \u001b[32m━━━━━━━━━━━━━━━━━━━━\u001b[0m\u001b[37m\u001b[0m \u001b[1m36s\u001b[0m 75ms/step - accuracy: 0.4379 - loss: 0.9744\n",
                  "Epoch 33/50\n",
                  "\u001b[1m482/482\u001b[0m \u001b[32m━━━━━━━━━━━━━━━━━━━━\u001b[0m\u001b[37m\u001b[0m \u001b[1m37s\u001b[0m 76ms/step - accuracy: 0.4383 - loss: 0.9717\n",
                  "Epoch 34/50\n",
                  "\u001b[1m482/482\u001b[0m \u001b[32m━━━━━━━━━━━━━━━━━━━━\u001b[0m\u001b[37m\u001b[0m \u001b[1m37s\u001b[0m 76ms/step - accuracy: 0.4396 - loss: 0.9698\n",
                  "Epoch 35/50\n",
                  "\u001b[1m482/482\u001b[0m \u001b[32m━━━━━━━━━━━━━━━━━━━━\u001b[0m\u001b[37m\u001b[0m \u001b[1m37s\u001b[0m 76ms/step - accuracy: 0.4444 - loss: 0.9627\n",
                  "Epoch 36/50\n",
                  "\u001b[1m482/482\u001b[0m \u001b[32m━━━━━━━━━━━━━━━━━━━━\u001b[0m\u001b[37m\u001b[0m \u001b[1m37s\u001b[0m 76ms/step - accuracy: 0.4445 - loss: 0.9642\n",
                  "Epoch 37/50\n",
                  "\u001b[1m482/482\u001b[0m \u001b[32m━━━━━━━━━━━━━━━━━━━━\u001b[0m\u001b[37m\u001b[0m \u001b[1m37s\u001b[0m 77ms/step - accuracy: 0.4473 - loss: 0.9591\n",
                  "Epoch 38/50\n",
                  "\u001b[1m482/482\u001b[0m \u001b[32m━━━━━━━━━━━━━━━━━━━━\u001b[0m\u001b[37m\u001b[0m \u001b[1m37s\u001b[0m 77ms/step - accuracy: 0.4494 - loss: 0.9564\n",
                  "Epoch 39/50\n",
                  "\u001b[1m482/482\u001b[0m \u001b[32m━━━━━━━━━━━━━━━━━━━━\u001b[0m\u001b[37m\u001b[0m \u001b[1m37s\u001b[0m 76ms/step - accuracy: 0.4491 - loss: 0.9520\n",
                  "Epoch 40/50\n",
                  "\u001b[1m482/482\u001b[0m \u001b[32m━━━━━━━━━━━━━━━━━━━━\u001b[0m\u001b[37m\u001b[0m \u001b[1m37s\u001b[0m 76ms/step - accuracy: 0.4490 - loss: 0.9509\n",
                  "Epoch 41/50\n",
                  "\u001b[1m482/482\u001b[0m \u001b[32m━━━━━━━━━━━━━━━━━━━━\u001b[0m\u001b[37m\u001b[0m \u001b[1m37s\u001b[0m 76ms/step - accuracy: 0.4539 - loss: 0.9472\n",
                  "Epoch 42/50\n",
                  "\u001b[1m482/482\u001b[0m \u001b[32m━━━━━━━━━━━━━━━━━━━━\u001b[0m\u001b[37m\u001b[0m \u001b[1m36s\u001b[0m 75ms/step - accuracy: 0.4548 - loss: 0.9449\n",
                  "Epoch 43/50\n",
                  "\u001b[1m482/482\u001b[0m \u001b[32m━━━━━━━━━━━━━━━━━━━━\u001b[0m\u001b[37m\u001b[0m \u001b[1m36s\u001b[0m 75ms/step - accuracy: 0.4577 - loss: 0.9405\n",
                  "Epoch 44/50\n",
                  "\u001b[1m482/482\u001b[0m \u001b[32m━━━━━━━━━━━━━━━━━━━━\u001b[0m\u001b[37m\u001b[0m \u001b[1m36s\u001b[0m 75ms/step - accuracy: 0.4561 - loss: 0.9364\n",
                  "Epoch 45/50\n",
                  "\u001b[1m482/482\u001b[0m \u001b[32m━━━━━━━━━━━━━━━━━━━━\u001b[0m\u001b[37m\u001b[0m \u001b[1m36s\u001b[0m 75ms/step - accuracy: 0.4598 - loss: 0.9363\n",
                  "Epoch 46/50\n",
                  "\u001b[1m482/482\u001b[0m \u001b[32m━━━━━━━━━━━━━━━━━━━━\u001b[0m\u001b[37m\u001b[0m \u001b[1m37s\u001b[0m 76ms/step - accuracy: 0.4610 - loss: 0.9357\n",
                  "Epoch 47/50\n",
                  "\u001b[1m482/482\u001b[0m \u001b[32m━━━━━━━━━━━━━━━━━━━━\u001b[0m\u001b[37m\u001b[0m \u001b[1m36s\u001b[0m 75ms/step - accuracy: 0.4622 - loss: 0.9315\n",
                  "Epoch 48/50\n",
                  "\u001b[1m482/482\u001b[0m \u001b[32m━━━━━━━━━━━━━━━━━━━━\u001b[0m\u001b[37m\u001b[0m \u001b[1m36s\u001b[0m 75ms/step - accuracy: 0.4645 - loss: 0.9276\n",
                  "Epoch 49/50\n",
                  "\u001b[1m482/482\u001b[0m \u001b[32m━━━━━━━━━━━━━━━━━━━━\u001b[0m\u001b[37m\u001b[0m \u001b[1m36s\u001b[0m 75ms/step - accuracy: 0.4648 - loss: 0.9263\n",
                  "Epoch 50/50\n",
                  "\u001b[1m482/482\u001b[0m \u001b[32m━━━━━━━━━━━━━━━━━━━━\u001b[0m\u001b[37m\u001b[0m \u001b[1m36s\u001b[0m 75ms/step - accuracy: 0.4627 - loss: 0.9250\n"
               ]
            },
            {
               "data": {
                  "text/plain": [
                     "<keras.src.callbacks.history.History at 0x195fcb7b800>"
                  ]
               },
               "execution_count": 13,
               "metadata": {},
               "output_type": "execute_result"
            }
         ],
         "source": [
            "model.fit(reviews_train, sentiments_train, epochs=50, batch_size=256, shuffle=True)"
         ]
      },
      {
         "cell_type": "code",
         "execution_count": 14,
         "metadata": {},
         "outputs": [
            {
               "name": "stdout",
               "output_type": "stream",
               "text": [
                  "\u001b[1m964/964\u001b[0m \u001b[32m━━━━━━━━━━━━━━━━━━━━\u001b[0m\u001b[37m\u001b[0m \u001b[1m3s\u001b[0m 3ms/step\n",
                  "              precision    recall  f1-score   support\n",
                  "\n",
                  "           0       0.37      0.91      0.53     10894\n",
                  "           1       0.32      0.05      0.08      9892\n",
                  "           2       0.53      0.14      0.22     10047\n",
                  "\n",
                  "    accuracy                           0.38     30833\n",
                  "   macro avg       0.41      0.37      0.28     30833\n",
                  "weighted avg       0.41      0.38      0.29     30833\n",
                  "\n",
                  "\n",
                  "Accuracy: 0.38413388252845976\n"
               ]
            },
            {
               "data": {
                  "image/png": "[encoded data removed]",
                  "text/plain": [
                     "<Figure size 640x480 with 2 Axes>"
                  ]
               },
               "metadata": {},
               "output_type": "display_data"
            }
         ],
         "source": [
            "# Predizione con il modello addestrato\n",
            "predictions = model.predict(reviews_test)\n",
            "\n",
            "# Calcola le predizioni del modello come classi binarie\n",
            "predicted_classes = predictions.argmax(axis=1)  # Ottiene l'indice della classe con probabilità più alta\n",
            "\n",
            "real_labels = sentiments_test.astype(int)\n",
            "\n",
            "\n",
            "print(classification_report(real_labels, predicted_classes))\n",
            "print(\"\\nAccuracy:\", accuracy_score(real_labels, predicted_classes))\n",
            "\n",
            "# Calcola la matrice di confusione\n",
            "cm = confusion_matrix(real_labels, predicted_classes)\n",
            "sns.heatmap(cm, annot=True, fmt=\"d\")    \n",
            "plt.title(\"Confusion Matrix\")\n",
            "plt.xlabel(\"Predicted\")\n",
            "plt.ylabel(\"True\")\n",
            "plt.show()"
         ]
      },
      {
         "cell_type": "markdown",
         "metadata": {},
         "source": [
            "**FCN With Dropout Layer**"
         ]
      },
      {
         "cell_type": "code",
         "execution_count": 11,
         "metadata": {},
         "outputs": [
            {
               "name": "stderr",
               "output_type": "stream",
               "text": [
                  "c:\\Users\\LorenzoStancato\\AppData\\Local\\Programs\\Python\\Python312\\Lib\\site-packages\\keras\\src\\layers\\core\\dense.py:87: UserWarning: Do not pass an `input_shape`/`input_dim` argument to a layer. When using Sequential models, prefer using an `Input(shape)` object as the first layer in the model instead.\n",
                  "  super().__init__(activity_regularizer=activity_regularizer, **kwargs)\n"
               ]
            },
            {
               "name": "stdout",
               "output_type": "stream",
               "text": [
                  "Epoch 1/20\n",
                  "\u001b[1m482/482\u001b[0m \u001b[32m━━━━━━━━━━━━━━━━━━━━\u001b[0m\u001b[37m\u001b[0m \u001b[1m38s\u001b[0m 78ms/step - accuracy: 0.5750 - loss: 0.9135\n",
                  "Epoch 2/20\n",
                  "\u001b[1m482/482\u001b[0m \u001b[32m━━━━━━━━━━━━━━━━━━━━\u001b[0m\u001b[37m\u001b[0m \u001b[1m42s\u001b[0m 88ms/step - accuracy: 0.7186 - loss: 0.6763\n",
                  "Epoch 3/20\n",
                  "\u001b[1m482/482\u001b[0m \u001b[32m━━━━━━━━━━━━━━━━━━━━\u001b[0m\u001b[37m\u001b[0m \u001b[1m40s\u001b[0m 82ms/step - accuracy: 0.7546 - loss: 0.6110\n",
                  "Epoch 4/20\n",
                  "\u001b[1m482/482\u001b[0m \u001b[32m━━━━━━━━━━━━━━━━━━━━\u001b[0m\u001b[37m\u001b[0m \u001b[1m37s\u001b[0m 77ms/step - accuracy: 0.7840 - loss: 0.5533\n",
                  "Epoch 5/20\n",
                  "\u001b[1m482/482\u001b[0m \u001b[32m━━━━━━━━━━━━━━━━━━━━\u001b[0m\u001b[37m\u001b[0m \u001b[1m36s\u001b[0m 75ms/step - accuracy: 0.8069 - loss: 0.5024\n",
                  "Epoch 6/20\n",
                  "\u001b[1m482/482\u001b[0m \u001b[32m━━━━━━━━━━━━━━━━━━━━\u001b[0m\u001b[37m\u001b[0m \u001b[1m37s\u001b[0m 76ms/step - accuracy: 0.8273 - loss: 0.4550\n",
                  "Epoch 7/20\n",
                  "\u001b[1m482/482\u001b[0m \u001b[32m━━━━━━━━━━━━━━━━━━━━\u001b[0m\u001b[37m\u001b[0m \u001b[1m34s\u001b[0m 70ms/step - accuracy: 0.8450 - loss: 0.4144\n",
                  "Epoch 8/20\n",
                  "\u001b[1m482/482\u001b[0m \u001b[32m━━━━━━━━━━━━━━━━━━━━\u001b[0m\u001b[37m\u001b[0m \u001b[1m35s\u001b[0m 73ms/step - accuracy: 0.8575 - loss: 0.3827\n",
                  "Epoch 9/20\n",
                  "\u001b[1m482/482\u001b[0m \u001b[32m━━━━━━━━━━━━━━━━━━━━\u001b[0m\u001b[37m\u001b[0m \u001b[1m37s\u001b[0m 76ms/step - accuracy: 0.8706 - loss: 0.3524\n",
                  "Epoch 10/20\n",
                  "\u001b[1m482/482\u001b[0m \u001b[32m━━━━━━━━━━━━━━━━━━━━\u001b[0m\u001b[37m\u001b[0m \u001b[1m37s\u001b[0m 77ms/step - accuracy: 0.8792 - loss: 0.3269\n",
                  "Epoch 11/20\n",
                  "\u001b[1m482/482\u001b[0m \u001b[32m━━━━━━━━━━━━━━━━━━━━\u001b[0m\u001b[37m\u001b[0m \u001b[1m39s\u001b[0m 80ms/step - accuracy: 0.8841 - loss: 0.3151\n",
                  "Epoch 12/20\n",
                  "\u001b[1m482/482\u001b[0m \u001b[32m━━━━━━━━━━━━━━━━━━━━\u001b[0m\u001b[37m\u001b[0m \u001b[1m37s\u001b[0m 78ms/step - accuracy: 0.8909 - loss: 0.2926\n",
                  "Epoch 13/20\n",
                  "\u001b[1m482/482\u001b[0m \u001b[32m━━━━━━━━━━━━━━━━━━━━\u001b[0m\u001b[37m\u001b[0m \u001b[1m38s\u001b[0m 78ms/step - accuracy: 0.8946 - loss: 0.2813\n",
                  "Epoch 14/20\n",
                  "\u001b[1m482/482\u001b[0m \u001b[32m━━━━━━━━━━━━━━━━━━━━\u001b[0m\u001b[37m\u001b[0m \u001b[1m38s\u001b[0m 79ms/step - accuracy: 0.8996 - loss: 0.2696\n",
                  "Epoch 15/20\n",
                  "\u001b[1m482/482\u001b[0m \u001b[32m━━━━━━━━━━━━━━━━━━━━\u001b[0m\u001b[37m\u001b[0m \u001b[1m37s\u001b[0m 77ms/step - accuracy: 0.9027 - loss: 0.2585\n",
                  "Epoch 16/20\n",
                  "\u001b[1m482/482\u001b[0m \u001b[32m━━━━━━━━━━━━━━━━━━━━\u001b[0m\u001b[37m\u001b[0m \u001b[1m37s\u001b[0m 77ms/step - accuracy: 0.9060 - loss: 0.2493\n",
                  "Epoch 17/20\n",
                  "\u001b[1m482/482\u001b[0m \u001b[32m━━━━━━━━━━━━━━━━━━━━\u001b[0m\u001b[37m\u001b[0m \u001b[1m36s\u001b[0m 74ms/step - accuracy: 0.9080 - loss: 0.2422\n",
                  "Epoch 18/20\n",
                  "\u001b[1m482/482\u001b[0m \u001b[32m━━━━━━━━━━━━━━━━━━━━\u001b[0m\u001b[37m\u001b[0m \u001b[1m36s\u001b[0m 74ms/step - accuracy: 0.9089 - loss: 0.2361\n",
                  "Epoch 19/20\n",
                  "\u001b[1m482/482\u001b[0m \u001b[32m━━━━━━━━━━━━━━━━━━━━\u001b[0m\u001b[37m\u001b[0m \u001b[1m37s\u001b[0m 77ms/step - accuracy: 0.9132 - loss: 0.2305\n",
                  "Epoch 20/20\n",
                  "\u001b[1m482/482\u001b[0m \u001b[32m━━━━━━━━━━━━━━━━━━━━\u001b[0m\u001b[37m\u001b[0m \u001b[1m38s\u001b[0m 79ms/step - accuracy: 0.9143 - loss: 0.2230\n",
                  "\u001b[1m964/964\u001b[0m \u001b[32m━━━━━━━━━━━━━━━━━━━━\u001b[0m\u001b[37m\u001b[0m \u001b[1m1s\u001b[0m 808us/step - accuracy: 0.6727 - loss: 1.4348\n",
                  "Test Accuracy: 0.677488386631012\n"
               ]
            }
         ],
         "source": [
            "# reteneurale mia + chatgpt\n",
            "# Converti le matrici sparse in CSR (Compressed Sparse Row) per garantire la compatibilità con TensorFlow\n",
            "reviews_train_csr = csr_matrix(reviews_train)\n",
            "reviews_test_csr = csr_matrix(reviews_test)\n",
            "\n",
            "# Miscele i dati\n",
            "reviews_train_csr, sentiments_train_shuffle = shuffle(reviews_train_csr, sentiments_train)\n",
            "\n",
            "# Crea il modello\n",
            "model = tf.keras.Sequential([\n",
            "    tf.keras.layers.Dense(72, activation='relu', input_shape=(reviews_train_csr.shape[1],)),\n",
            "    tf.keras.layers.Dropout(0.5),\n",
            "    tf.keras.layers.Dense(32, activation='relu'),\n",
            "    tf.keras.layers.Dropout(0.5),\n",
            "    tf.keras.layers.Dense(3, activation='softmax')\n",
            "])\n",
            "\n",
            "# Compila il modello\n",
            "model.compile(optimizer='adam',\n",
            "              loss='sparse_categorical_crossentropy',\n",
            "              metrics=['accuracy'])\n",
            "\n",
            "# Addestra il modello\n",
            "model.fit(\n",
            "    reviews_train_csr, sentiments_train_shuffle, epochs=20, batch_size=256, shuffle=True\n",
            ")\n",
            "\n",
            "# Valuta il modello\n",
            "loss, accuracy = model.evaluate(reviews_test_csr, sentiments_test)\n",
            "print(\"Test Accuracy:\", accuracy)"
         ]
      },
      {
         "cell_type": "code",
         "execution_count": 12,
         "metadata": {},
         "outputs": [
            {
               "name": "stdout",
               "output_type": "stream",
               "text": [
                  "\u001b[1m964/964\u001b[0m \u001b[32m━━━━━━━━━━━━━━━━━━━━\u001b[0m\u001b[37m\u001b[0m \u001b[1m1s\u001b[0m 1ms/step\n",
                  "              precision    recall  f1-score   support\n",
                  "\n",
                  "           0       0.72      0.72      0.72     10894\n",
                  "           1       0.58      0.55      0.56      9892\n",
                  "           2       0.73      0.76      0.74     10047\n",
                  "\n",
                  "    accuracy                           0.68     30833\n",
                  "   macro avg       0.67      0.68      0.67     30833\n",
                  "weighted avg       0.67      0.68      0.68     30833\n",
                  "\n",
                  "\n",
                  "Accuracy: 0.677488405280057\n"
               ]
            },
            {
               "data": {
                  "image/png": "[encoded data removed]",
                  "text/plain": [
                     "<Figure size 640x480 with 2 Axes>"
                  ]
               },
               "metadata": {},
               "output_type": "display_data"
            }
         ],
         "source": [
            "# Predizione con il modello addestrato\n",
            "predictions = model.predict(reviews_test)\n",
            "\n",
            "# Calcola le predizioni del modello come classi binarie\n",
            "predicted_classes = predictions.argmax(axis=1)  # Ottiene l'indice della classe con probabilità più alta\n",
            "\n",
            "real_labels = sentiments_test.astype(int)\n",
            "\n",
            "\n",
            "print(classification_report(real_labels, predicted_classes))\n",
            "print(\"\\nAccuracy:\", accuracy_score(real_labels, predicted_classes))\n",
            "\n",
            "# Calcola la matrice di confusione\n",
            "cm = confusion_matrix(real_labels, predicted_classes)\n",
            "sns.heatmap(cm, annot=True, fmt=\"d\")    \n",
            "plt.title(\"Confusion Matrix\")\n",
            "plt.xlabel(\"Predicted\")\n",
            "plt.ylabel(\"True\")\n",
            "plt.show()"
         ]
      },
      {
         "cell_type": "markdown",
         "metadata": {},
         "source": [
            "**#1DCNN**"
         ]
      },
      {
         "cell_type": "code",
         "execution_count": null,
         "metadata": {},
         "outputs": [],
         "source": [
            "# BEFORE STARTING CNN CODE\n",
            "# DOWNLOAD glove.6B.200d.txt FROM THE FOLLOWING LINK AND PLACE IT IN THE SAME DIRECTORY AS THIS SCRIPT\n",
            "# https://www.kaggle.com/datasets/rtatman/glove-global-vectors-for-word-representation?resource=download"
         ]
      },
      {
         "cell_type": "code",
         "execution_count": 8,
         "metadata": {},
         "outputs": [],
         "source": [
            "def load_glove_vectors(file_path):\n",
            "    word_vectors = {}\n",
            "    with open(file_path, \"r\", encoding=\"utf-8\") as file:\n",
            "        for line in file:\n",
            "            parts = line.split()\n",
            "            word = parts[0]\n",
            "            vector = np.array([float(val) for val in parts[1:]])\n",
            "            word_vectors[word] = vector\n",
            "    return word_vectors\n",
            "\n",
            "glove_file_path = \"./glove.6B.200d.txt\"\n",
            "glove_vectors = load_glove_vectors(glove_file_path)\n",
            "\n",
            "vocab_size = len(glove_vectors)\n",
            "embedding_dim = len(next(iter(glove_vectors.values())))\n",
            "embedding_matrix = np.zeros((vocab_size, embedding_dim))\n",
            "word_index = {}\n",
            "for i, (word, vector) in enumerate(glove_vectors.items()):\n",
            "    embedding_matrix[i] = vector\n",
            "    word_index[word] = i"
         ]
      },
      {
         "cell_type": "code",
         "execution_count": 10,
         "metadata": {},
         "outputs": [
            {
               "name": "stdout",
               "output_type": "stream",
               "text": [
                  "\u001b[1m3469/3469\u001b[0m \u001b[32m━━━━━━━━━━━━━━━━━━━━\u001b[0m\u001b[37m\u001b[0m \u001b[1m83440s\u001b[0m 24s/step - accuracy: 0.3556 - loss: 3.1251 - val_accuracy: 0.3586 - val_loss: 1.0972\n",
                  "\u001b[1m964/964\u001b[0m \u001b[32m━━━━━━━━━━━━━━━━━━━━\u001b[0m\u001b[37m\u001b[0m \u001b[1m2347s\u001b[0m 2s/step - accuracy: 0.3540 - loss: 1.0979\n",
                  "Test Accuracy: 0.35332274436950684\n"
               ]
            }
         ],
         "source": [
            "modelCNN = tf.keras.Sequential(\n",
            "    [\n",
            "        tf.keras.layers.Embedding(\n",
            "            input_dim=vocab_size,\n",
            "            output_dim=embedding_dim,\n",
            "            weights=[embedding_matrix],\n",
            "            trainable=False,\n",
            "        ),\n",
            "        tf.keras.layers.Conv1D(64, 5, activation=\"relu\"),\n",
            "        tf.keras.layers.MaxPooling1D(pool_size=4),\n",
            "        tf.keras.layers.Flatten(),\n",
            "        tf.keras.layers.Dense(64, activation=\"relu\"),\n",
            "        tf.keras.layers.Dense(3, activation=\"softmax\"),\n",
            "    ]\n",
            ")\n",
            "\n",
            "modelCNN.compile(\n",
            "    optimizer=\"adam\", loss=\"sparse_categorical_crossentropy\", metrics=[\"accuracy\"]\n",
            ")\n",
            "\n",
            "\n",
            "modelCNN.fit(\n",
            "    reviews_train,\n",
            "    sentiments_train,\n",
            "    epochs=1,\n",
            "    batch_size=32,\n",
            "    validation_split=0.1,\n",
            ")\n",
            "\n",
            "\n",
            "# Valutazione del modello\n",
            "\n",
            "\n",
            "loss, accuracy = modelCNN.evaluate(reviews_test, sentiments_test)\n",
            "\n",
            "print(\"Test Accuracy:\", accuracy)"
         ]
      },
      {
         "cell_type": "code",
         "execution_count": null,
         "metadata": {},
         "outputs": [],
         "source": [
            "# Predizione con il modello addestrato\n",
            "predictions = modelCNN.predict(reviews_test)\n",
            "\n",
            "# Calcola le predizioni del modello come classi binarie\n",
            "predicted_classes = predictions.argmax(\n",
            "    axis=1\n",
            ")  # Ottiene l'indice della classe con probabilità più alta\n",
            "\n",
            "real_labels = sentiments_test.astype(int)\n",
            "\n",
            "\n",
            "print(classification_report(real_labels, predicted_classes))\n",
            "print(\"\\nAccuracy:\", accuracy_score(real_labels, predicted_classes))\n",
            "\n",
            "# Calcola la matrice di confusione\n",
            "cm = confusion_matrix(real_labels, predicted_classes)\n",
            "sns.heatmap(cm, annot=True, fmt=\"d\")\n",
            "plt.title(\"Confusion Matrix\")\n",
            "plt.xlabel(\"Predicted\")\n",
            "plt.ylabel(\"True\")\n",
            "plt.show()\n",
            "\n",
            "report = classification_report(real_labels, predicted_classes, output_dict=True)\n",
            "precision = report[\"macro avg\"][\"precision\"]\n",
            "recall = report[\"macro avg\"][\"recall\"]\n",
            "f1_score = report[\"macro avg\"][\"f1-score\"]\n",
            "\n",
            "# Etichette per le classi\n",
            "classes = [\"Negative\", \"Neutral\", \"Positive\"]\n",
            "\n",
            "# Crea il grafico a barre\n",
            "x = np.arange(len(classes))\n",
            "width = 0.2\n",
            "\n",
            "fig, ax = plt.subplots()\n",
            "rects1 = ax.bar(x - width, precision, width, label=\"Precision\")\n",
            "rects2 = ax.bar(x, recall, width, label=\"Recall\")\n",
            "rects3 = ax.bar(x + width, f1_score, width, label=\"F1-score\")\n",
            "\n",
            "# Aggiungi etichette, titolo, e legenda\n",
            "ax.set_ylabel(\"Score\")\n",
            "ax.set_title(\"Scores by  metric\")\n",
            "ax.set_xticks(x)\n",
            "ax.set_xticklabels(classes)\n",
            "ax.legend()\n",
            "\n",
            "fig.tight_layout()\n",
            "plt.show()"
         ]
      }
   ],
   "metadata": {
      "kernelspec": {
         "display_name": "Python 3",
         "language": "python",
         "name": "python3"
      },
      "language_info": {
         "codemirror_mode": {
            "name": "ipython",
            "version": 3
         },
         "file_extension": ".py",
         "mimetype": "text/x-python",
         "name": "python",
         "nbconvert_exporter": "python",
         "pygments_lexer": "ipython3",
         "version": "3.12.2"
      }
   },
   "nbformat": 4,
   "nbformat_minor": 2
}
