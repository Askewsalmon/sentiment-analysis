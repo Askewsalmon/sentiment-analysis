{
 "cells": [
  {
   "cell_type": "code",
   "execution_count": 8,
   "metadata": {},
   "outputs": [
    {
     "name": "stderr",
     "output_type": "stream",
     "text": [
      "[nltk_data] Downloading package stopwords to\n",
      "[nltk_data]     C:\\Users\\fraia\\AppData\\Roaming\\nltk_data...\n",
      "[nltk_data]   Package stopwords is already up-to-date!\n",
      "[nltk_data] Downloading package punkt to\n",
      "[nltk_data]     C:\\Users\\fraia\\AppData\\Roaming\\nltk_data...\n",
      "[nltk_data]   Unzipping tokenizers\\punkt.zip.\n"
     ]
    },
    {
     "data": {
      "text/plain": [
       "True"
      ]
     },
     "execution_count": 8,
     "metadata": {},
     "output_type": "execute_result"
    }
   ],
   "source": [
    "#import nltk\n",
    "\n",
    "#nltk.download(\"stopwords\")\n",
    "#nltk.download(\"punkt\")\n",
    "# # Blocco 1: Importa le librerie necessarie\n",
    "# import pandas as pd\n",
    "# from sklearn.feature_extraction.text import CountVectorizer, TfidfVectorizer\n",
    "# from sklearn.model_selection import train_test_split\n",
    "# from sklearn.naive_bayes import MultinomialNB\n",
    "# from sklearn.svm import LinearSVC\n",
    "# from sklearn.ensemble import RandomForestClassifier\n",
    "# from sklearn.metrics import classification_report\n",
    "# from sklearn.feature_extraction.text import CountVectorizer\n",
    "# from sklearn.preprocessing import LabelEncoder\n",
    "# from nltk.corpus import stopwords\n",
    "# from nltk.stem import PorterStemmer\n",
    "# from nltk.tokenize import word_tokenize\n",
    "# import re\n",
    "# # Blocco 2: Carica il dataset\n",
    "# df = pd.read_json(\"./Video_Games_5.json\", lines=True)\n",
    "# # Blocco 3: Trasforma il campo \"overall\" in un campo binario\n",
    "# df[\"sentiment\"] = df[\"overall\"].apply(\n",
    "#     lambda rating: 0 if rating <= 2 else (1 if rating <= 4 else 2)\n",
    "# )\n",
    "# df[\"reviewText\"].fillna(\"\", inplace=True)\n",
    "# # 1. Rimozione dei caratteri speciali\n",
    "# df[\"reviewText\"] = df[\"reviewText\"].apply(lambda x: re.sub(r\"\\W\", \" \", str(x)))\n",
    "\n",
    "# # 2. Rimozione delle stop words\n",
    "# stop_words = set(stopwords.words(\"english\"))\n",
    "# df[\"reviewText\"] = df[\"reviewText\"].apply(\n",
    "#     lambda x: \" \".join([word for word in word_tokenize(x) if word not in stop_words])\n",
    "# )\n",
    "\n",
    "# # 3. Stemming\n",
    "# stemmer = PorterStemmer()\n",
    "# df[\"reviewText\"] = df[\"reviewText\"].apply(\n",
    "#     lambda x: \" \".join([stemmer.stem(word) for word in word_tokenize(x)])\n",
    "# )\n",
    "\n",
    "# # 4. Tokenizzazione - Questo sarà fatto nel passaggio di vettorizzazione\n",
    "\n",
    "# # 5. Vettorizzazione\n",
    "# vectorizer = CountVectorizer()\n",
    "# reviews_counts = vectorizer.fit_transform(df[\"reviewText\"])\n",
    "\n",
    "\n",
    "# # 7. Codifica delle etichette\n",
    "# encoder = LabelEncoder()\n",
    "# df[\"sentiment\"] = encoder.fit_transform(df[\"sentiment\"])\n",
    "\n",
    "# # 6. Rimozione delle parole poco frequenti - Questo può essere fatto durante la vettorizzazione\n",
    "# vectorizer = (\n",
    "#     CountVectorizer()\n",
    "# )  # Ignora le parole che appaiono in meno dell'1% dei documenti\n",
    "# reviews_counts = vectorizer.fit_transform(df[\"reviewText\"])\n",
    "# vectorizer = TfidfVectorizer()\n",
    "# reviews_tfidf = vectorizer.fit_transform(df[\"reviewText\"])\n",
    "# # Blocco 5: Suddividi i dati in set di addestramento e di test\n",
    "# reviews_train, reviews_test, sentiments_train, sentiments_test = train_test_split(\n",
    "#     reviews_counts, df[\"sentiment\"], test_size=0.2, random_state=42\n",
    "# )\n",
    "# # Crea il modello Random Forest\n",
    "# clf = RandomForestClassifier(n_estimators=100, random_state=42)\n",
    "\n",
    "# # Addestra il modello\n",
    "# clf.fit(reviews_train, sentiments_train)\n",
    "\n",
    "# # Fai delle previsioni sul set di test\n",
    "# sentiments_pred = clf.predict(reviews_test)\n",
    "\n",
    "# # Stampa il rapporto di classificazione\n",
    "# print(classification_report(sentiments_test, sentiments_pred))\n",
    "# # Crea il modello SVM\n",
    "# clf = LinearSVC(dual=True)\n",
    "\n",
    "# # Addestra il modello\n",
    "# clf.fit(reviews_train, sentiments_train)\n",
    "\n",
    "# # Fai delle previsioni sul set di test\n",
    "# sentiments_pred = clf.predict(reviews_test)\n",
    "\n",
    "# # Stampa il rapporto di classificazione\n",
    "# print(classification_report(sentiments_test, sentiments_pred))\n",
    "# # Blocco 6: Crea e addestra il classificatore Naive Bayes\n",
    "# classifier = MultinomialNB()\n",
    "# classifier.fit(reviews_train, sentiments_train)\n",
    "# # Blocco 7: Prevedi i sentimenti per il set di test\n",
    "# sentiments_pred = classifier.predict(reviews_test)\n",
    "# print(classification_report(sentiments_test, sentiments_pred))"
   ]
  },
  {
   "cell_type": "code",
   "execution_count": 10,
   "metadata": {},
   "outputs": [],
   "source": [
    "# Blocco 1: Importa le librerie necessarie\n",
    "import pandas as pd\n",
    "from sklearn.feature_extraction.text import CountVectorizer, TfidfVectorizer\n",
    "from sklearn.model_selection import train_test_split\n",
    "from sklearn.naive_bayes import MultinomialNB\n",
    "from sklearn.svm import LinearSVC\n",
    "from sklearn.ensemble import RandomForestClassifier\n",
    "from sklearn.metrics import classification_report, confusion_matrix\n",
    "from sklearn.feature_extraction.text import CountVectorizer\n",
    "from sklearn.preprocessing import LabelEncoder\n",
    "from nltk.corpus import stopwords\n",
    "from nltk.stem import PorterStemmer\n",
    "from nltk.tokenize import word_tokenize\n",
    "import re\n",
    "import seaborn as sns\n",
    "from wordcloud import WordCloud\n",
    "import matplotlib.pyplot as plt\n",
    "from joblib import dump,load"
   ]
  },
  {
   "cell_type": "code",
   "execution_count": 11,
   "metadata": {},
   "outputs": [],
   "source": [
    "# Blocco 2: Carica il dataset\n",
    "df = pd.read_json(\"./Video_Games_5.json\", lines=True)"
   ]
  },
  {
   "cell_type": "code",
   "execution_count": 12,
   "metadata": {},
   "outputs": [],
   "source": [
    "# Blocco 3: Trasforma il campo \"overall\" in un campo binario\n",
    "df[\"sentiment\"] = df[\"overall\"].apply(\n",
    "    lambda rating: 0 if rating <= 2 else (1 if rating <= 4 else 2)\n",
    ")"
   ]
  },
  {
   "cell_type": "code",
   "execution_count": 13,
   "metadata": {},
   "outputs": [],
   "source": [
    "#df[\"reviewText\"].fillna(\"\", inplace=True)\n",
    "df.fillna({\"reviewText\": \"\"}, inplace=True)\n",
    "# 1. Rimozione dei caratteri speciali\n",
    "df[\"reviewText\"] = df[\"reviewText\"].apply(lambda x: re.sub(r\"\\W\", \" \", str(x)))\n",
    "\n",
    "# 2. Rimozione delle stop words\n",
    "stop_words = set(stopwords.words(\"english\"))\n",
    "df[\"reviewText\"] = df[\"reviewText\"].apply(\n",
    "    lambda x: \" \".join([word for word in word_tokenize(x) if word not in stop_words])\n",
    ")\n",
    "\n",
    "# 3. Stemming\n",
    "stemmer = PorterStemmer()\n",
    "df[\"reviewText\"] = df[\"reviewText\"].apply(\n",
    "    lambda x: \" \".join([stemmer.stem(word) for word in word_tokenize(x)])\n",
    ")\n",
    "\n",
    "# 7. Codifica delle etichette\n",
    "encoder = LabelEncoder()\n",
    "df[\"sentiment\"] = encoder.fit_transform(df[\"sentiment\"])"
   ]
  },
  {
   "cell_type": "code",
   "execution_count": 14,
   "metadata": {},
   "outputs": [],
   "source": [
    "# 6. Rimozione delle parole poco frequenti - Questo può essere fatto durante la vettorizzazione\n",
    "vectorizer = (\n",
    "    CountVectorizer()\n",
    ")  # Ignora le parole che appaiono in meno dell'1% dei documenti\n",
    "reviews_counts = vectorizer.fit_transform(df[\"reviewText\"])"
   ]
  },
  {
   "cell_type": "code",
   "execution_count": 15,
   "metadata": {},
   "outputs": [],
   "source": [
    "vectorizer = TfidfVectorizer()\n",
    "reviews_tfidf = vectorizer.fit_transform(df[\"reviewText\"])"
   ]
  },
  {
   "cell_type": "code",
   "execution_count": 16,
   "metadata": {},
   "outputs": [],
   "source": [
    "# Blocco 5: Suddividi i dati in set di addestramento e di test\n",
    "reviews_train, reviews_test, sentiments_train, sentiments_test = train_test_split(\n",
    "    reviews_counts, df[\"sentiment\"], test_size=0.2, random_state=42\n",
    ")"
   ]
  },
  {
   "cell_type": "code",
   "execution_count": 18,
   "metadata": {},
   "outputs": [],
   "source": [
    "# Crea il modello Random Forest\n",
    "clf = RandomForestClassifier(n_estimators=100, random_state=42)\n",
    "\n",
    "# Addestra il modello\n",
    "clf.fit(reviews_train, sentiments_train)\n",
    "\n",
    "# Fai delle previsioni sul set di test\n",
    "sentiments_pred = clf.predict(reviews_test)\n",
    "\n",
    "# Stampa il rapporto di classificazione\n",
    "print(classification_report(sentiments_test, sentiments_pred))"
   ]
  },
  {
   "cell_type": "code",
   "execution_count": null,
   "metadata": {},
   "outputs": [],
   "source": [
    "# Salvare il modello addestrato\n",
    "dump(clf, 'random_forest_classifier.joblib')\n",
    "# Caricare il modello\n",
    "rf_loaded = load('random_forest_classifier.joblib')"
   ]
  },
  {
   "cell_type": "code",
   "execution_count": 10,
   "metadata": {},
   "outputs": [
    {
     "name": "stdout",
     "output_type": "stream",
     "text": [
      "              precision    recall  f1-score   support\n",
      "\n",
      "           0       0.67      0.52      0.59     11056\n",
      "           1       0.63      0.40      0.49     28558\n",
      "           2       0.75      0.91      0.82     59902\n",
      "\n",
      "    accuracy                           0.72     99516\n",
      "   macro avg       0.68      0.61      0.63     99516\n",
      "weighted avg       0.71      0.72      0.70     99516\n",
      "\n"
     ]
    },
    {
     "name": "stderr",
     "output_type": "stream",
     "text": [
      "c:\\Users\\LorenzoStancato\\AppData\\Local\\Programs\\Python\\Python312\\Lib\\site-packages\\sklearn\\svm\\_base.py:1237: ConvergenceWarning: Liblinear failed to converge, increase the number of iterations.\n",
      "  warnings.warn(\n"
     ]
    }
   ],
   "source": [
    "# Crea il modello SVM\n",
    "clf = LinearSVC(dual=True)\n",
    "\n",
    "# Addestra il modello\n",
    "clf.fit(reviews_train, sentiments_train)\n",
    "\n",
    "# Fai delle previsioni sul set di test\n",
    "sentiments_pred = clf.predict(reviews_test)\n",
    "\n",
    "# Stampa il rapporto di classificazione\n",
    "print(classification_report(sentiments_test, sentiments_pred))\n",
    "# Salvare il modello addestrato\n",
    "dump(clf, 'svm.joblib')\n",
    "# Caricare il modello\n",
    "svm_loaded = load('svm.joblib')"
   ]
  },
  {
   "cell_type": "code",
   "execution_count": 8,
   "metadata": {},
   "outputs": [
    {
     "name": "stdout",
     "output_type": "stream",
     "text": [
      "              precision    recall  f1-score   support\n",
      "\n",
      "           0       0.59      0.55      0.57     11056\n",
      "           1       0.60      0.39      0.47     28558\n",
      "           2       0.75      0.89      0.81     59902\n",
      "\n",
      "    accuracy                           0.71     99516\n",
      "   macro avg       0.65      0.61      0.62     99516\n",
      "weighted avg       0.69      0.71      0.69     99516\n",
      "\n"
     ]
    },
    {
     "data": {
      "image/png": "[encoded data removed]",
      "text/plain": [
       "<Figure size 640x480 with 2 Axes>"
      ]
     },
     "metadata": {},
     "output_type": "display_data"
    }
   ],
   "source": [
    "# Blocco 6: Crea e addestra il classificatore Naive Bayes\n",
    "classifier = MultinomialNB()\n",
    "classifier.fit(reviews_train, sentiments_train)\n",
    "# Blocco 7: Prevedi i sentimenti per il set di test\n",
    "sentiments_pred = classifier.predict(reviews_test)\n",
    "print(classification_report(sentiments_test, sentiments_pred))\n",
    "\n",
    "# Salvare il modello addestrato\n",
    "dump(clf, 'bayes.joblib')\n",
    "# Caricare il modello\n",
    "nb_loaded = load('bayes.joblib')\n",
    "\n",
    "cm = confusion_matrix(sentiments_test, sentiments_pred)\n",
    "sns.heatmap(cm, annot=True, fmt=\"d\")\n",
    "plt.title(\"Confusion Matrix\")\n",
    "plt.xlabel(\"Predicted\")\n",
    "plt.ylabel(\"True\")\n",
    "plt.show()"
   ]
  },
  {
   "cell_type": "code",
   "execution_count": 1,
   "metadata": {},
   "outputs": [
    {
     "ename": "NameError",
     "evalue": "name 'df' is not defined",
     "output_type": "error",
     "traceback": [
      "\u001b[1;31m---------------------------------------------------------------------------\u001b[0m",
      "\u001b[1;31mNameError\u001b[0m                                 Traceback (most recent call last)",
      "Cell \u001b[1;32mIn[1], line 2\u001b[0m\n\u001b[0;32m      1\u001b[0m \u001b[38;5;66;03m#WordCloud\u001b[39;00m\n\u001b[1;32m----> 2\u001b[0m positive_reviews \u001b[38;5;241m=\u001b[39m \u001b[43mdf\u001b[49m[df[\u001b[38;5;124m'\u001b[39m\u001b[38;5;124msentiment\u001b[39m\u001b[38;5;124m'\u001b[39m] \u001b[38;5;241m==\u001b[39m \u001b[38;5;241m2\u001b[39m][\u001b[38;5;124m'\u001b[39m\u001b[38;5;124mreviewText\u001b[39m\u001b[38;5;124m'\u001b[39m]\u001b[38;5;241m.\u001b[39mstr\u001b[38;5;241m.\u001b[39mcat(sep\u001b[38;5;241m=\u001b[39m\u001b[38;5;124m'\u001b[39m\u001b[38;5;124m \u001b[39m\u001b[38;5;124m'\u001b[39m)\n\u001b[0;32m      3\u001b[0m wordcloud \u001b[38;5;241m=\u001b[39m WordCloud(background_color\u001b[38;5;241m=\u001b[39m\u001b[38;5;124m'\u001b[39m\u001b[38;5;124mwhite\u001b[39m\u001b[38;5;124m'\u001b[39m, max_words\u001b[38;5;241m=\u001b[39m\u001b[38;5;241m200\u001b[39m)\u001b[38;5;241m.\u001b[39mgenerate(positive_reviews)\n\u001b[0;32m      4\u001b[0m plt\u001b[38;5;241m.\u001b[39mfigure(figsize\u001b[38;5;241m=\u001b[39m(\u001b[38;5;241m10\u001b[39m, \u001b[38;5;241m10\u001b[39m))\n",
      "\u001b[1;31mNameError\u001b[0m: name 'df' is not defined"
     ]
    }
   ],
   "source": [
    "#WordCloud per sentimenti positivi\n",
    "positive_reviews = df[df['sentiment'] == 2]['reviewText'].str.cat(sep=' ')\n",
    "wordcloud = WordCloud(background_color='white', max_words=200).generate(positive_reviews)\n",
    "plt.figure(figsize=(10, 10))\n",
    "plt.imshow(wordcloud, interpolation='bilinear')\n",
    "plt.axis('off')\n",
    "plt.title('Word Cloud for Positive Reviews')\n",
    "plt.show()\n",
    "\n",
    "# Word Cloud per sentimenti negativi\n",
    "negative_reviews = df[df['sentiment'] == 0]['reviewText'].str.cat(sep=' ')\n",
    "wordcloud_negative = WordCloud(background_color='white', max_words=200, contour_color='red').generate(negative_reviews)\n",
    "plt.figure(figsize=(8, 8))\n",
    "plt.imshow(wordcloud_negative, interpolation='bilinear')\n",
    "plt.axis('off')\n",
    "plt.title('Negative Sentiment Word Cloud')\n",
    "plt.show()"
   ]
  },
  {
   "cell_type": "code",
   "execution_count": null,
   "metadata": {},
   "outputs": [],
   "source": [
    "# Calcolo delle metriche per il confronto dei modelli\n",
    "from sklearn.metrics import precision_recall_fscore_support as score\n",
    "\n",
    "# Calcola metriche per Random Forest\n",
    "precision_rf, recall_rf, fscore_rf, _ = score(sentiments_test, rf_loaded.predict(reviews_test), average='weighted')\n",
    "\n",
    "# Calcola metriche per SVM\n",
    "precision_svm, recall_svm, fscore_svm, _ = score(sentiments_test, svm_loaded.predict(reviews_test), average='weighted')\n",
    "\n",
    "# Calcola metriche per Naive Bayes\n",
    "precision_nb, recall_nb, fscore_nb, _ = score(sentiments_test, nb_loaded.predict(reviews_test), average='weighted')\n",
    "\n",
    "# Creazione del grafico a barre per confrontare i modelli\n",
    "import numpy as np\n",
    "\n",
    "models = ['Random Forest', 'SVM', 'Naive Bayes']\n",
    "precision_scores = [precision_rf, precision_svm, precision_nb]\n",
    "recall_scores = [recall_rf, recall_svm, recall_nb]\n",
    "fscore_scores = [fscore_rf, fscore_svm, fscore_nb]\n",
    "\n",
    "x = np.arange(len(models))  \n",
    "width = 0.25  \n",
    "\n",
    "fig, ax = plt.subplots()\n",
    "rects1 = ax.bar(x - width, precision_scores, width, label='Precision')\n",
    "rects2 = ax.bar(x, recall_scores, width, label='Recall')\n",
    "rects3 = ax.bar(x + width, fscore_scores, width, label='F1-Score')\n",
    "\n",
    "ax.set_ylabel('Scores')\n",
    "ax.set_title('Scores by model and metric')\n",
    "ax.set_xticks(x)\n",
    "ax.set_xticklabels(models)\n",
    "ax.legend()\n",
    "\n",
    "fig.tight_layout()\n",
    "\n",
    "plt.show()"
   ]
  }
 ],
 "metadata": {
  "kernelspec": {
   "display_name": "Python 3",
   "language": "python",
   "name": "python3"
  },
  "language_info": {
   "codemirror_mode": {
    "name": "ipython",
    "version": 3
   },
   "file_extension": ".py",
   "mimetype": "text/x-python",
   "name": "python",
   "nbconvert_exporter": "python",
   "pygments_lexer": "ipython3",
   "version": "3.11.8"
  }
 },
 "nbformat": 4,
 "nbformat_minor": 2
}
